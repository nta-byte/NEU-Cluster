{
 "cells": [
  {
   "cell_type": "markdown",
   "metadata": {},
   "source": [
    "# Module imports\n",
    "We will use skimage to pre-process the images, pathlib to navigate files, and matplotlib for visualization."
   ]
  },
  {
   "cell_type": "code",
   "execution_count": null,
   "metadata": {},
   "outputs": [],
   "source": [
    "import matplotlib.pyplot as plt \n",
    "import numpy as np\n",
    "import os\n",
    "from pathlib import Path\n",
    "import skimage.exposure\n",
    "import skimage.io\n",
    "import skimage.transform\n",
    "\n",
    "%matplotlib inline"
   ]
  },
  {
   "cell_type": "markdown",
   "metadata": {},
   "source": [
    "# NEU Data\n",
    "\n",
    "First, we need to verify that python can find the original images so we can process them."
   ]
  },
  {
   "cell_type": "code",
   "execution_count": null,
   "metadata": {},
   "outputs": [],
   "source": [
    "root = Path('..','data','NEU-CLS') # directory where original NEU images are stored\n",
    "assert root.is_dir() # make sure this directory is found\n",
    "files = sorted(root.glob('*.bmp'), key=lambda file : file.name) # read files and sort by name so order is consistent\n",
    "assert len(files) == 1800 # make sure all 1800 images are found"
   ]
  },
  {
   "cell_type": "markdown",
   "metadata": {},
   "source": [
    "# Pre-processing\n",
    "We will take the following steps:\n",
    "  * Load the image into python\n",
    "  * Apply histogram equalization\n",
    "  * Resize the image to 224 x 224 needed for use with VGG16\n",
    "  * Save the image to disk\n",
    "\n",
    "We will start with the process for a single image as an example, and then process all of them in one batch."
   ]
  },
  {
   "cell_type": "markdown",
   "metadata": {},
   "source": [
    "## Load image"
   ]
  },
  {
   "cell_type": "code",
   "execution_count": null,
   "metadata": {},
   "outputs": [],
   "source": [
    "im_path = Path('..','data','NEU-CLS','Cr_10.bmp') # path to image\n",
    "assert im_path.exists()\n",
    "\n",
    "im = skimage.io.imread(im_path, as_gray=True) # load image\n",
    "\n",
    "# display the image to verify it loads as expected\n",
    "fig, ax = plt.subplots()\n",
    "ax.imshow(im, cmap='gray')"
   ]
  },
  {
   "cell_type": "markdown",
   "metadata": {},
   "source": [
    "## Histogram equalization"
   ]
  },
  {
   "cell_type": "code",
   "execution_count": null,
   "metadata": {},
   "outputs": [],
   "source": [
    "im = skimage.img_as_float32(im) # before applying histogram equalization we want to be sure that the image is represented with floating point pixel values between 0 and 1\n",
    "\n",
    "im_eq = skimage.exposure.equalize_adapthist(im) # apply histogram equalization\n",
    "\n",
    "\n",
    "# get histogram from each image\n",
    "hist, bins = skimage.exposure.histogram(skimage.img_as_ubyte(im))\n",
    "bins = bins/bins.max()\n",
    "hist = hist/hist.max()\n",
    "hist_cumsum = hist.cumsum() / hist.sum()\n",
    "\n",
    "hist_eq, bins_eq = skimage.exposure.histogram(skimage.img_as_ubyte(im_eq))\n",
    "bins_eq = bins_eq/bins_eq.max()\n",
    "hist_eq = hist_eq / hist_eq.max()\n",
    "hist_eq_cumsum = hist_eq.cumsum() / hist_eq.sum()\n",
    "\n",
    "# visualize image and histograms before and after equalization\n",
    "fig, ax = plt.subplots(2,2, figsize=(5,3), dpi=300, sharex=True, sharey=False)\n",
    "\n",
    "# display images\n",
    "ax[0,0].imshow(im, extent=(0,1,0,1), cmap='gray')\n",
    "ax[1,0].imshow(im_eq, extent=(0,1,0,1), cmap='gray')\n",
    "\n",
    "# plot intensity histograms\n",
    "ax[0,1].plot(bins, hist, label='counts', linestyle='-', color='slateblue')\n",
    "ax[0,1].plot(bins, hist_cumsum, label='cumulative', linestyle='-.', color='deeppink')\n",
    "ax[1,1].plot(bins_eq, hist_eq, linestyle='-', color='slateblue')\n",
    "ax[1,1].plot(bins_eq, hist_eq_cumsum, linestyle='-.', color='deeppink')\n",
    "\n",
    "# label axes\n",
    "ax[0,1].set_ylabel('counts')\n",
    "ax[1,1].set_ylabel('counts')\n",
    "ax[1,1].set_xlabel('intensity')\n",
    "\n",
    "# legend\n",
    "ax[0,1].legend(loc='upper right', bbox_to_anchor=(2,1), facecolor='w')\n",
    "\n",
    "# turn off axes on image\n",
    "ax[0,0].axis('off')\n",
    "ax[1,0].axis('off')\n",
    "\n",
    "# extend xlim so you can see edges of graph\n",
    "ax[1,1].set_xlim([0,1.01])\n",
    "\n",
    "# make titles\n",
    "for a, title in zip(ax.ravel(), ['a)','b)','c)','d)']):\n",
    "    a.set_title(title, loc='left')\n",
    "for a in ax[:,1].ravel():\n",
    "    a.set_yticks(np.linspace(0,1,3))\n",
    "    a.set_yticks([0.25,0.75], minor=True)\n",
    "    a.set_xticks(np.linspace(0,1,3))\n",
    "    a.set_xticks([0.25,0.75], minor=True)\n",
    "\n",
    "fig.tight_layout()\n",
    "fig.savefig(Path('..','Figures','HistEQExample.png'), bbox_inches='tight')"
   ]
  },
  {
   "cell_type": "markdown",
   "metadata": {},
   "source": [
    "The contrast is enhanced, and the histogram appears to be more normally distributed after equalization."
   ]
  },
  {
   "cell_type": "markdown",
   "metadata": {},
   "source": [
    "# Preprocessing all images\n",
    "Now that we have seen the process for a single image, let's take care of the rest of them."
   ]
  },
  {
   "cell_type": "code",
   "execution_count": null,
   "metadata": {},
   "outputs": [],
   "source": [
    "# pre-process pipeline- standard\n",
    "def pre_process_pipeline(inpath, outdir, eq_hist=True):\n",
    "    \"\"\"\n",
    "    Preprocess images for standard analysis.\n",
    "    \n",
    "    Reads the image from inpath, applies contrast limited adaptive histogram equalization,\n",
    "    resizes the images to 224 x 224 for VGG16, and then saves image to disk in directory outdir.\n",
    "    \n",
    "    Parameters\n",
    "    -----------\n",
    "    inpath: str or Path object \n",
    "        path to image to be pre-processed\n",
    "    outdir: str or Path object\n",
    "        root directory to save image after pre-processing.\n",
    "    eq_hist: bool\n",
    "        if True, skimage.exposure.equalize_adapthist is applied before resizing.\n",
    "        (Can be disabled for sensitivity analysis)\n",
    "    \n",
    "    Saved\n",
    "    -------\n",
    "    im_preprocessed: image\n",
    "            image is saved to disk in outdir with the same filename and image format as the original image.\n",
    "    \n",
    "    \"\"\"\n",
    "    name = Path(inpath).name # get the filename of the image\n",
    "    im = skimage.io.imread(inpath, as_gray=True) # read in image\n",
    "    im = skimage.img_as_float32(im) # convert to float representation for histogram equalization\n",
    "    if eq_hist:\n",
    "        im = skimage.exposure.equalize_adapthist(im) # histogram equalization\n",
    "    im = skimage.transform.resize(im, (224,224)) # resize to 224 x 224 needed for VGG16\n",
    "    im = skimage.img_as_ubyte(im) # convert back to 8 bit grayscale image\n",
    "    skimage.io.imsave(Path(outdir, name), im) # save image to disk\n",
    "    return\n",
    "\n",
    "output_root = Path('..','data','images_preprocessed','images_histeq_resize') # place where pre-processed images will be stored\n",
    "os.makedirs(output_root, exist_ok=True) # create output directory if it does not exist\n",
    "for file in files:\n",
    "    pre_process_pipeline(file, output_root)\n",
    "assert len(list(output_root.glob(\"*.bmp\"))) == 1800 # make sure all 1800 images processed"
   ]
  },
  {
   "cell_type": "code",
   "execution_count": null,
   "metadata": {},
   "outputs": [],
   "source": [
    "# pre-process images without histogram equalization \n",
    "output_root_resize = Path('..','data','images_preprocessed','images_resize') # place where resized images will be stored    \n",
    "os.makedirs(output_root_resize, exist_ok=True) # make output directory if it doesn't already exist \n",
    "\n",
    "for file in files:\n",
    "    pre_process_pipeline(file, output_root_resize, eq_hist=False)\n",
    "\n",
    "assert len(list(output_root_resize.glob(\"*.bmp\"))) == 1800 # make sure all 1800 images processed"
   ]
  }
 ],
 "metadata": {
  "kernelspec": {
   "display_name": "Python 3",
   "language": "python",
   "name": "python3"
  },
  "language_info": {
   "codemirror_mode": {
    "name": "ipython",
    "version": 3
   },
   "file_extension": ".py",
   "mimetype": "text/x-python",
   "name": "python",
   "nbconvert_exporter": "python",
   "pygments_lexer": "ipython3",
   "version": "3.8.2"
  }
 },
 "nbformat": 4,
 "nbformat_minor": 4
}
