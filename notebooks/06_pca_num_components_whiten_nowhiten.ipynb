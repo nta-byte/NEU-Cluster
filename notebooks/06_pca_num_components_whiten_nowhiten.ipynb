{
 "cells": [
  {
   "cell_type": "code",
   "execution_count": null,
   "metadata": {},
   "outputs": [],
   "source": [
    "import matplotlib.pyplot as plt\n",
    "import numpy as np\n",
    "from pathlib import Path\n",
    "import pickle\n",
    "import seaborn as sns\n",
    "from sklearn.cluster import KMeans\n",
    "from sklearn.decomposition import PCA\n",
    "from sklearn.manifold import TSNE\n",
    "from sklearn.metrics import confusion_matrix, classification_report\n",
    "\n",
    "import sys\n",
    "sys.path.insert(0,'../')\n",
    "from helper import (classification_tools as ct,\n",
    "                   visualize as vis)\n",
    "%matplotlib inline"
   ]
  },
  {
   "cell_type": "code",
   "execution_count": null,
   "metadata": {},
   "outputs": [],
   "source": [
    "fc1_path = Path('..','data','features','VGG16_fc1_features_std.pickle')\n",
    "with open(fc1_path, 'rb') as f:\n",
    "    data = pickle.load(f)\n",
    "\n",
    "le_path = Path('..','models','label_encoder.pickle')\n",
    "with open(le_path, 'rb') as f:\n",
    "    le = pickle.load(f)"
   ]
  },
  {
   "cell_type": "code",
   "execution_count": null,
   "metadata": {},
   "outputs": [],
   "source": [
    "files = data['filename']\n",
    "fc1 = data['features']\n",
    "labels = data['labels']\n",
    "y_gt = le.transform(labels)"
   ]
  },
  {
   "cell_type": "code",
   "execution_count": null,
   "metadata": {},
   "outputs": [],
   "source": [
    "pca = PCA(n_components=50, svd_solver='full', whiten=True)\n",
    "pca_nw = PCA(n_components=50, svd_solver='full', whiten=False)\n",
    "x = pca.fit_transform(fc1)\n",
    "x_nw = pca_nw.fit_transform(fc1)"
   ]
  },
  {
   "cell_type": "code",
   "execution_count": null,
   "metadata": {},
   "outputs": [],
   "source": [
    "tsne = TSNE(n_components=2, random_state=12214)\n",
    "tsne_w = TSNE(n_components=2, random_state=654753)\n",
    "x_nw_tsne = tsne.fit_transform(x_nw)\n",
    "x_w_tsne = tsne_w.fit_transform(x)"
   ]
  },
  {
   "cell_type": "markdown",
   "metadata": {},
   "source": [
    "# Without whitening cluster accuracy is consistently around 96% \n"
   ]
  },
  {
   "cell_type": "code",
   "execution_count": null,
   "metadata": {},
   "outputs": [],
   "source": [
    "rs = np.random.RandomState(seed=1115068143)\n",
    "for seed in rs.randint(2**32,size=5):\n",
    "    kmeans = KMeans(n_clusters=7, init='k-means++', n_init=50, random_state=seed)\n",
    "    kmeans.fit(x_nw)\n",
    "    labels_unmatched = kmeans.labels_\n",
    "    y_pred = ct.label_matcher(labels_unmatched, y_gt)\n",
    "    print('inertia: {:.2f}'.format(kmeans.inertia_))\n",
    "    CM = confusion_matrix(y_gt, y_pred)\n",
    "    print(CM)\n",
    "    print(CM.trace()/CM.sum())"
   ]
  },
  {
   "cell_type": "markdown",
   "metadata": {},
   "source": [
    "# varying the number of components\n"
   ]
  },
  {
   "cell_type": "code",
   "execution_count": null,
   "metadata": {},
   "outputs": [],
   "source": [
    "pca_nw = PCA(whiten=False, svd_solver='full')\n",
    "pca_w = PCA(whiten=True, svd_solver='full')\n",
    "\n",
    "pca_nw.fit(fc1)\n",
    "pca_w.fit(fc1)"
   ]
  },
  {
   "cell_type": "code",
   "execution_count": null,
   "metadata": {},
   "outputs": [],
   "source": [
    "var = pca_w.explained_variance_ratio_.astype(np.float64).cumsum()\n",
    "plt.plot(var)"
   ]
  },
  {
   "cell_type": "code",
   "execution_count": null,
   "metadata": {},
   "outputs": [],
   "source": [
    "nc = [1, 5, 10, 20, 50, 100, 250, 500, 1000, 1800] \n",
    "var[np.asarray(nc)-1]"
   ]
  },
  {
   "cell_type": "code",
   "execution_count": null,
   "metadata": {},
   "outputs": [],
   "source": [
    "rs = np.random.RandomState(seed=3731806785)\n",
    "[[x, y] for x, y in zip(rs.randint(2**32, size=len(nc)), rs.randint(2**32, size=len(nc)))]"
   ]
  },
  {
   "cell_type": "code",
   "execution_count": null,
   "metadata": {},
   "outputs": [],
   "source": [
    "use_cache = True # set to False to re-compute results\n",
    "pca_nc_cache_path = Path('..','.neu_cache','sensitivity_pca_num_components.pickle')\n",
    "\n",
    "if not use_cache or not pca_nc_cache_path.is_file(): # run if user specifies (switch=True) or if cached results not found\n",
    "    accs_w = []\n",
    "    accs_nw = []\n",
    "    rs = np.random.RandomState(seed=3731806785)\n",
    "    for c, seed1, seed2  in zip(nc, \n",
    "                                rs.randint(2**32, size=len(nc)), \n",
    "                                rs.randint(2**32, size=len(nc))):\n",
    "\n",
    "        print('number of components: {:>4}'.format(c))\n",
    "        pca_nw = PCA(whiten=False, svd_solver='full', n_components=c)\n",
    "        pca_w = PCA(whiten=True, svd_solver='full', n_components=c)\n",
    "\n",
    "        x_nw = pca_nw.fit_transform(fc1)\n",
    "        x_w = pca_w.fit_transform(fc1)\n",
    "\n",
    "        kmeans_nw = KMeans(n_clusters=7, init='k-means++', n_init=500, random_state=seed1)\n",
    "        kmeans_nw.fit(x_nw)\n",
    "        labels_unmatched_nw = kmeans_nw.labels_\n",
    "        y_pred_nw  = ct.label_matcher(labels_unmatched_nw, y_gt)\n",
    "\n",
    "        CM_nw = confusion_matrix(y_gt, y_pred_nw)\n",
    "        accs_nw.append(CM_nw.trace()/CM_nw.sum())\n",
    "\n",
    "        kmeans_w = KMeans(n_clusters=7, init='k-means++', n_init=500, random_state=seed2)\n",
    "        kmeans_w.fit(x_w)\n",
    "        labels_unmatched_w = kmeans_w.labels_\n",
    "        y_pred_w  = ct.label_matcher(labels_unmatched_w, y_gt,)\n",
    "\n",
    "\n",
    "        CM_w = confusion_matrix(y_gt, y_pred_w)\n",
    "        accs_w.append(CM_w.trace()/CM_w.sum())\n",
    "    with open(pca_nc_cache_path, 'wb') as f:\n",
    "        pickle.dump({'nc':nc,\n",
    "                'accs_nw':accs_nw,\n",
    "                'accs_w':accs_w},\n",
    "               f)\n",
    "else:\n",
    "    with open(pca_nc_cache_path, 'rb') as f:\n",
    "        results_ = pickle.load(f)\n",
    "        nc = results_['nc']\n",
    "        accs_nw = results_['accs_nw']\n",
    "        accs_w = results_['accs_w']\n",
    "        \n",
    "        "
   ]
  },
  {
   "cell_type": "code",
   "execution_count": null,
   "metadata": {},
   "outputs": [],
   "source": [
    "fig = plt.figure(dpi=300, figsize=(3,2.5))\n",
    "ax = fig.add_subplot(111)\n",
    "ax.plot(nc, accs_w, '-.sk', label='whitening', color='deeppink')\n",
    "ax.plot(nc, accs_nw, ':ok', label='no whitening', color='slateblue')\n",
    "leg = ax.legend()\n",
    "ax.set_xscale('log')\n",
    "ax.set_xlabel('Number of PCA components')\n",
    "ax.set_ylabel('Clustering accuracy')\n",
    "fig.tight_layout()\n",
    "fig.savefig(Path('..','Figures','pca_n_components.png'), bbox_inches='tight')"
   ]
  },
  {
   "cell_type": "code",
   "execution_count": null,
   "metadata": {},
   "outputs": [],
   "source": [
    "print('number of components\\taccuaries (no whitening)\\taccuracies (whitening)')\n",
    "for n, nw, w in zip(nc, accs_nw, accs_w):\n",
    "    print('\\t{:>4}\\t\\t\\t{:.3f}\\t\\t\\t\\t{:.3f}'.format(n,nw,w))"
   ]
  }
 ],
 "metadata": {
  "kernelspec": {
   "display_name": "Python 3",
   "language": "python",
   "name": "python3"
  },
  "language_info": {
   "codemirror_mode": {
    "name": "ipython",
    "version": 3
   },
   "file_extension": ".py",
   "mimetype": "text/x-python",
   "name": "python",
   "nbconvert_exporter": "python",
   "pygments_lexer": "ipython3",
   "version": "3.8.2"
  }
 },
 "nbformat": 4,
 "nbformat_minor": 4
}
