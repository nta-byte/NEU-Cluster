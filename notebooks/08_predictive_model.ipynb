{
 "cells": [
  {
   "cell_type": "code",
   "execution_count": 1,
   "metadata": {},
   "outputs": [],
   "source": [
    "import numpy as np\n",
    "import matplotlib.pyplot as plt\n",
    "import pickle\n",
    "import sklearn\n",
    "import sklearn.cluster\n",
    "import sklearn.decomposition\n",
    "import sklearn.manifold\n",
    "import sklearn.model_selection\n",
    "import seaborn as sns\n",
    "\n",
    "import sys\n",
    "sys.path.insert(0, '../')\n",
    "import NEU_utils\n"
   ]
  },
  {
   "cell_type": "code",
   "execution_count": 2,
   "metadata": {},
   "outputs": [],
   "source": [
    "with open('fc1_features.pickle', 'rb') as f:\n",
    "    data = pickle.load(f)\n",
    "labels = [x[:2] for x in data['filename']]"
   ]
  },
  {
   "cell_type": "code",
   "execution_count": 3,
   "metadata": {},
   "outputs": [],
   "source": [
    "n_pca = 20\n",
    "pca_nw = sklearn.decomposition.PCA(n_components=n_pca, svd_solver='full', whiten=False)\n",
    "pca_w = sklearn.decomposition.PCA(n_components=n_pca, svd_solver='full', whiten=True)\n",
    "\n",
    "x_pca_nw = pca_nw.fit_transform(data['fc1'])\n",
    "x_pca_w = pca_w.fit_transform(data['fc1'])"
   ]
  },
  {
   "cell_type": "code",
   "execution_count": 4,
   "metadata": {},
   "outputs": [
    {
     "data": {
      "image/png": "[encoded data removed]",
      "text/plain": [
       "<Figure size 432x288 with 1 Axes>"
      ]
     },
     "metadata": {
      "needs_background": "light"
     },
     "output_type": "display_data"
    }
   ],
   "source": [
    "fig = plt.figure()\n",
    "ax = fig.add_subplot(111)\n",
    "ax.plot(range(1,n_pca+1), pca_nw.explained_variance_ratio_.cumsum(), '-o')\n",
    "ax.set_xlabel('Number of Components')\n",
    "ax.set_ylabel('Cumulative Variance Explained')\n",
    "ax.grid(which='both')\n",
    "plt.show()"
   ]
  },
  {
   "cell_type": "code",
   "execution_count": 5,
   "metadata": {},
   "outputs": [],
   "source": [
    "labels_numeric = np.asarray([NEU_utils.label_mapper[x] for x in labels])"
   ]
  },
  {
   "cell_type": "code",
   "execution_count": 6,
   "metadata": {},
   "outputs": [],
   "source": [
    "kfold = sklearn.model_selection.KFold(n_splits=5, shuffle=True, random_state=2332)\n",
    "splits = kfold.split(x_pca_w)\n",
    "traintestacc = []\n",
    "for train, test in splits:\n",
    "    Xtrain = x_pca_w[train]\n",
    "    Xval = x_pca_w[test]\n",
    "    \n",
    "    Ytrain = labels_numeric[train]\n",
    "    Yval = labels_numeric[test]\n",
    "\n",
    "    \n",
    "    kmeans = sklearn.cluster.KMeans(n_clusters=7, init='k-means++', n_init=500, n_jobs=-1)\n",
    "    kmeans.fit(Xtrain)\n",
    "    \n",
    "    labels_train = kmeans.labels_\n",
    "    labels_val = kmeans.predict(Xval)\n",
    "    \n",
    "\n",
    "    files_train = [labels[i] for i in train]\n",
    "    files_val = [labels[i] for i in test]\n",
    "    \n",
    "    Ypred_train = NEU_utils.file_matcher(labels_train, files_train, NEU_utils.label_mapper)\n",
    "    Ypred_val = NEU_utils.file_matcher(labels_val, files_val, NEU_utils.label_mapper)\n",
    "    \n",
    "    trainacc = (Ypred_train == Ytrain).sum()/len(Ytrain)\n",
    "    valacc = (Ypred_val == Yval).sum()/len(Yval)\n",
    "    traintestacc.append([trainacc, valacc])"
   ]
  },
  {
   "cell_type": "code",
   "execution_count": 7,
   "metadata": {},
   "outputs": [
    {
     "name": "stdout",
     "output_type": "stream",
     "text": [
      "PCA 50 components + whitening\n",
      "Train Accuracy\t\tValidation Accuracy\n",
      "0.98611\t\t\t0.98889\n",
      "0.98681\t\t\t0.97778\n",
      "0.98403\t\t\t0.98889\n",
      "0.98403\t\t\t0.99167\n",
      "0.98542\t\t\t0.98056\n"
     ]
    }
   ],
   "source": [
    "print('PCA 50 components + whitening')\n",
    "print('Train Accuracy\\t\\tValidation Accuracy')\n",
    "for row in traintestacc:\n",
    "    print(\"{:.5f}\\t\\t\\t{:.5f}\".format(row[0], row[1]))"
   ]
  },
  {
   "cell_type": "code",
   "execution_count": 8,
   "metadata": {},
   "outputs": [
    {
     "name": "stdout",
     "output_type": "stream",
     "text": [
      "PCA 50 components + whitening\n",
      "Train Accuracy\t\tValidation Accuracy\n",
      "0.96319\t\t\t0.97778\n",
      "0.98264\t\t\t0.98333\n",
      "0.97708\t\t\t0.97222\n",
      "0.98472\t\t\t0.99444\n",
      "0.99236\t\t\t0.98333\n"
     ]
    }
   ],
   "source": [
    "pca_w50 = sklearn.decomposition.PCA(n_components=50, svd_solver='full', whiten=True)\n",
    "\n",
    "x_pca_w50 = pca_w50.fit_transform(data['fc1'])\n",
    "\n",
    "\n",
    "kfold = sklearn.model_selection.KFold(n_splits=5, shuffle=True, random_state=42224)\n",
    "splits = kfold.split(x_pca_w50)\n",
    "traintestacc = []\n",
    "for train, test in splits:\n",
    "    Xtrain = x_pca_w50[train]\n",
    "    Xval = x_pca_w50[test]\n",
    "    \n",
    "    Ytrain = labels_numeric[train]\n",
    "    Yval = labels_numeric[test]\n",
    "\n",
    "    \n",
    "    kmeans = sklearn.cluster.KMeans(n_clusters=7, init='k-means++', n_init=500, n_jobs=-1)\n",
    "    kmeans.fit(Xtrain)\n",
    "    \n",
    "    labels_train = kmeans.labels_\n",
    "    labels_val = kmeans.predict(Xval)\n",
    "    \n",
    "\n",
    "    files_train = [labels[i] for i in train]\n",
    "    files_val = [labels[i] for i in test]\n",
    "    \n",
    "    Ypred_train = NEU_utils.file_matcher(labels_train, files_train, NEU_utils.label_mapper)\n",
    "    Ypred_val = NEU_utils.file_matcher(labels_val, files_val, NEU_utils.label_mapper)\n",
    "    \n",
    "    trainacc = (Ypred_train == Ytrain).sum()/len(Ytrain)\n",
    "    valacc = (Ypred_val == Yval).sum()/len(Yval)\n",
    "    traintestacc.append([trainacc, valacc])\n",
    "\n",
    "print('PCA 50 components + whitening')\n",
    "print('Train Accuracy\\t\\tValidation Accuracy')\n",
    "for row in traintestacc:\n",
    "    print(\"{:.5f}\\t\\t\\t{:.5f}\".format(row[0], row[1]))"
   ]
  }
 ],
 "metadata": {
  "kernelspec": {
   "display_name": "Python 3",
   "language": "python",
   "name": "python3"
  },
  "language_info": {
   "codemirror_mode": {
    "name": "ipython",
    "version": 3
   },
   "file_extension": ".py",
   "mimetype": "text/x-python",
   "name": "python",
   "nbconvert_exporter": "python",
   "pygments_lexer": "ipython3",
   "version": "3.8.2"
  }
 },
 "nbformat": 4,
 "nbformat_minor": 4
}
